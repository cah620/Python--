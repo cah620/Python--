{
  "nbformat": 4,
  "nbformat_minor": 0,
  "metadata": {
    "colab": {
      "provenance": []
    },
    "kernelspec": {
      "name": "python3",
      "display_name": "Python 3"
    },
    "language_info": {
      "name": "python"
    }
  },
  "cells": [
    {
      "cell_type": "code",
      "source": [
        "!pip install Pillow"
      ],
      "metadata": {
        "colab": {
          "base_uri": "https://localhost:8080/"
        },
        "id": "YdibPqSuGzBw",
        "outputId": "cbac0d69-1212-40c8-ce88-35b9aa095810"
      },
      "execution_count": 3,
      "outputs": [
        {
          "output_type": "stream",
          "name": "stdout",
          "text": [
            "Looking in indexes: https://pypi.org/simple, https://us-python.pkg.dev/colab-wheels/public/simple/\n",
            "Requirement already satisfied: Pillow in /usr/local/lib/python3.10/dist-packages (8.4.0)\n"
          ]
        }
      ]
    },
    {
      "cell_type": "code",
      "source": [
        "!pip install pytesseract"
      ],
      "metadata": {
        "colab": {
          "base_uri": "https://localhost:8080/"
        },
        "id": "6NFVrQtXG0_0",
        "outputId": "83ee8928-b412-46e9-84bd-3d1b46c26705"
      },
      "execution_count": 4,
      "outputs": [
        {
          "output_type": "stream",
          "name": "stdout",
          "text": [
            "Looking in indexes: https://pypi.org/simple, https://us-python.pkg.dev/colab-wheels/public/simple/\n",
            "Collecting pytesseract\n",
            "  Downloading pytesseract-0.3.10-py3-none-any.whl (14 kB)\n",
            "Requirement already satisfied: packaging>=21.3 in /usr/local/lib/python3.10/dist-packages (from pytesseract) (23.1)\n",
            "Requirement already satisfied: Pillow>=8.0.0 in /usr/local/lib/python3.10/dist-packages (from pytesseract) (8.4.0)\n",
            "Installing collected packages: pytesseract\n",
            "Successfully installed pytesseract-0.3.10\n"
          ]
        }
      ]
    },
    {
      "cell_type": "code",
      "source": [
        "!sudo apt install tesseract-ocr"
      ],
      "metadata": {
        "colab": {
          "base_uri": "https://localhost:8080/"
        },
        "id": "K1Xai8a6G4JG",
        "outputId": "353b19fe-c855-42e9-9bf7-b90e071d8d69"
      },
      "execution_count": 5,
      "outputs": [
        {
          "output_type": "stream",
          "name": "stdout",
          "text": [
            "Reading package lists... Done\n",
            "Building dependency tree       \n",
            "Reading state information... Done\n",
            "The following additional packages will be installed:\n",
            "  tesseract-ocr-eng tesseract-ocr-osd\n",
            "The following NEW packages will be installed:\n",
            "  tesseract-ocr tesseract-ocr-eng tesseract-ocr-osd\n",
            "0 upgraded, 3 newly installed, 0 to remove and 15 not upgraded.\n",
            "Need to get 4,850 kB of archives.\n",
            "After this operation, 16.3 MB of additional disk space will be used.\n",
            "Get:1 http://archive.ubuntu.com/ubuntu focal/universe amd64 tesseract-ocr-eng all 1:4.00~git30-7274cfa-1 [1,598 kB]\n",
            "Get:2 http://archive.ubuntu.com/ubuntu focal/universe amd64 tesseract-ocr-osd all 1:4.00~git30-7274cfa-1 [2,990 kB]\n",
            "Get:3 http://archive.ubuntu.com/ubuntu focal/universe amd64 tesseract-ocr amd64 4.1.1-2build2 [262 kB]\n",
            "Fetched 4,850 kB in 1s (5,194 kB/s)\n",
            "debconf: unable to initialize frontend: Dialog\n",
            "debconf: (No usable dialog-like program is installed, so the dialog based frontend cannot be used. at /usr/share/perl5/Debconf/FrontEnd/Dialog.pm line 76, <> line 3.)\n",
            "debconf: falling back to frontend: Readline\n",
            "debconf: unable to initialize frontend: Readline\n",
            "debconf: (This frontend requires a controlling tty.)\n",
            "debconf: falling back to frontend: Teletype\n",
            "dpkg-preconfigure: unable to re-open stdin: \n",
            "Selecting previously unselected package tesseract-ocr-eng.\n",
            "(Reading database ... 123069 files and directories currently installed.)\n",
            "Preparing to unpack .../tesseract-ocr-eng_1%3a4.00~git30-7274cfa-1_all.deb ...\n",
            "Unpacking tesseract-ocr-eng (1:4.00~git30-7274cfa-1) ...\n",
            "Selecting previously unselected package tesseract-ocr-osd.\n",
            "Preparing to unpack .../tesseract-ocr-osd_1%3a4.00~git30-7274cfa-1_all.deb ...\n",
            "Unpacking tesseract-ocr-osd (1:4.00~git30-7274cfa-1) ...\n",
            "Selecting previously unselected package tesseract-ocr.\n",
            "Preparing to unpack .../tesseract-ocr_4.1.1-2build2_amd64.deb ...\n",
            "Unpacking tesseract-ocr (4.1.1-2build2) ...\n",
            "Setting up tesseract-ocr-eng (1:4.00~git30-7274cfa-1) ...\n",
            "Setting up tesseract-ocr-osd (1:4.00~git30-7274cfa-1) ...\n",
            "Setting up tesseract-ocr (4.1.1-2build2) ...\n",
            "Processing triggers for man-db (2.9.1-1) ...\n"
          ]
        }
      ]
    },
    {
      "cell_type": "code",
      "source": [
        "import os\n",
        "os.chdir('/content/drive/MyDrive/Colab Notebooks')  # Colab 換路徑使用\n",
        "\n",
        "from PIL import Image\n",
        "import pytesseract\n",
        "\n",
        "img = Image.open('english.jpg')\n",
        "text = pytesseract.image_to_string(img, lang='eng')\n",
        "print(text)"
      ],
      "metadata": {
        "colab": {
          "base_uri": "https://localhost:8080/"
        },
        "id": "-Lq72RsXItsX",
        "outputId": "0ce3f626-d1cb-4560-a291-ecc1771adecc"
      },
      "execution_count": 7,
      "outputs": [
        {
          "output_type": "stream",
          "name": "stdout",
          "text": [
            " \n",
            "\n",
            "1 Not Quite as It Seems\n",
            "\n",
            "‘The short story is a literary form that is not successful for all writers, Characters\n",
            "must be developed, a setting established, a story told, and an effective conclusion\n",
            "reached—all in a few pages. One of the masters of the short story was American\n",
            "writer William Sydney Porter, better known by his pseudonym O. Henry. O. Henry\n",
            "turned out hundreds of stories in the period from about 1895 until his death in\n",
            "1910. Set in the city or in the country, dealing with people both young and old, the\n",
            "stories have one thing in common: nothing in them is exactly as it seems.\n",
            "\n",
            "What gave most of O. Henry's stories their surprising twists was sitwational\n",
            "irony.\"This technique involves something happening that is the opposite of what is\n",
            "expected. One of O. Henry's most famous and most ironic stories is “The Gift of\n",
            "the Magi.” Set in New York, as many of his stories are, it deals with a struggling\n",
            "young couple desperate to buy Christmas gifts for one another. She sells her long,\n",
            "beautiful hair in order to get money to buy him a chain for his precious gold\n",
            "watch—at the same time he is selling the watch in order to buy tortoiseshell combs\n",
            "that she has coveted to wear in her hair.\n",
            "\n",
            "O. Henry found irony in all situations, not excepting those that related to his own\n",
            "life. While a young man living in Texas, a failed publishing venture led him to embez-\n",
            "zle money, for which he ultimately spent three years in a penitentiary. O. Henry draws\n",
            "on that experience in another famous story, “A Retrieved Reformation.” In it, a bank\n",
            "robber on the run is about to marry and go straight, until his breaking-in abilities are\n",
            "needed to save the life of a child. Stories like “After Twenty Years’ and “The Ransom of\n",
            "Red Chief” also deal with lawbreakers who get their comeuppance in surprising ways.\n",
            "\f\n"
          ]
        }
      ]
    },
    {
      "cell_type": "code",
      "source": [
        "import os\n",
        "os.chdir('/content/drive/MyDrive/Colab Notebooks')  # Colab 換路徑使用\n",
        "\n",
        "from PIL import Image\n",
        "import pytesseract\n",
        "\n",
        "img = Image.open('chinese.jpg')\n",
        "text = pytesseract.image_to_string(img, lang='chi_tra')\n",
        "print(text)"
      ],
      "metadata": {
        "colab": {
          "base_uri": "https://localhost:8080/"
        },
        "id": "Ea4rw-kCJEgJ",
        "outputId": "cacfd51a-81ce-46de-aa79-00b5b41dd854"
      },
      "execution_count": 8,
      "outputs": [
        {
          "output_type": "stream",
          "name": "stdout",
          "text": [
            "關於 STEAM 教育\n",
            "\n",
            "STEAM 教育 由 五 個 單字 組 成 , 分 別 是 Science ( 科學 )、Technology ( 技術 )、Engineering (\n",
            "工程 )、Arts ( 藝術 ) 和 Mathematics ( 數 學 ), 因 此 STEAM 教育 也 稱 作 「 跨 學 科教 育 。S\n",
            "TEAM 教育 延伸 STEM 的 精神 , 除 了 強調 「 動 手 做 」 以 及 「 解 決 問題 」 的 能 力 , 更 將 藝術 Ar\n",
            "t、 技 術 、 工 程 和 數 學 整合 , 創造 出 能 夠 應 用 於 真 實 生 活 的 應 用 。\n",
            "\n",
            " \n",
            "\n",
            " \n",
            "\n",
            " \n",
            "\n",
            " \n",
            "\f\n"
          ]
        }
      ]
    }
  ]
}